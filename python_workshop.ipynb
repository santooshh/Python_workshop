{
 "cells": [
  {
   "cell_type": "code",
   "execution_count": null,
   "metadata": {},
   "outputs": [],
   "source": [
    "#Write a class in which its one method accepts a string from console and \n",
    "#another method to print the characters that have odd indexes.\n",
    "def print_odd_index():\n",
    "  i = input(\"Please insert characters: \")\n",
    "\n",
    "\n",
    "\n",
    "  for index in range(len(i)):\n",
    "    #Check if odd \n",
    "    if(index % 2 != 0):\n",
    "        #print odd characters\n",
    "        print(i[index])\n",
    "        \n",
    "if __name__=='__main__':  \n",
    "    print_odd_index()\n",
    "\n",
    "     \n",
    "    \n",
    "        "
   ]
  },
  {
   "cell_type": "code",
   "execution_count": null,
   "metadata": {},
   "outputs": [],
   "source": [
    "# Q. You are given a string and your task is remove all Upper case letters.\n",
    "def remove_Upper():\n",
    " a =  input(\"Please insert characters: \")\n",
    " print(''.join([x[0] for x in zip(a, a.upper()) if x[0] != x[1]]))\n",
    "\n",
    "if __name__=='__main__':\n",
    "    remove_Upper()\n",
    "    \n",
    "     "
   ]
  },
  {
   "cell_type": "code",
   "execution_count": null,
   "metadata": {},
   "outputs": [],
   "source": [
    "# You are given a string and your task is to swap cases. In other words, convert all lowercase letters to uppercase letters and vice versa.\\n\",\n",
    "def swap_case():\n",
    " a =  input(\"Please insert characters: \")\n",
    " print(a.swapcase())\n",
    "    \n",
    "if __name__=='__main__':\n",
    "  swap_case()\n"
   ]
  },
  {
   "cell_type": "code",
   "execution_count": null,
   "metadata": {},
   "outputs": [],
   "source": [
    "#The user enters a string and a substring. You have to print the number of times that the substring occurs in the given string. \n",
    "#String traversal will take place from left to right, not from right to left\n",
    "s =  input(\"enter the string \")\n",
    "sb =  input(\" enter substring \")\n",
    "results = 0\n",
    "sub_len = len(sb)\n",
    "for i in range(len(s)):\n",
    "    if s[i:i+sub_len] == sb:\n",
    "        results += 1\n",
    "print (results)"
   ]
  },
  {
   "cell_type": "code",
   "execution_count": 1,
   "metadata": {},
   "outputs": [
    {
     "name": "stdout",
     "output_type": "stream",
     "text": [
      "[(10, 20, 100), (40, 50, 100), (70, 80, 100)]\n"
     ]
    }
   ],
   "source": [
    "#Write a Python program to replace last value of tuples in a list.\n",
    "#Sample list: [(10, 20, 40), (40, 50, 60), (70, 80, 90)]\n",
    "a=[(10, 20, 40), (40, 50, 60), (70, 80, 90)]\n",
    "b=[(t[0],t[1],) + (100,) for t in a]\n",
    "print(b)"
   ]
  }
 ],
 "metadata": {
  "kernelspec": {
   "display_name": "Python 3",
   "language": "python",
   "name": "python3"
  },
  "language_info": {
   "codemirror_mode": {
    "name": "ipython",
    "version": 3
   },
   "file_extension": ".py",
   "mimetype": "text/x-python",
   "name": "python",
   "nbconvert_exporter": "python",
   "pygments_lexer": "ipython3",
   "version": "3.6.5"
  }
 },
 "nbformat": 4,
 "nbformat_minor": 2
}
